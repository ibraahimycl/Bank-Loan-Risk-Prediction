{
 "cells": [
  {
   "cell_type": "code",
   "execution_count": 21,
   "metadata": {},
   "outputs": [],
   "source": [
    "import pandas as pd\n",
    "import numpy as np\n",
    "import matplotlib.pyplot as plt\n",
    "import seaborn as sns\n",
    "import lightgbm as lgb\n",
    "from sklearn.model_selection import StratifiedKFold\n",
    "from sklearn.metrics import roc_auc_score\n",
    "from sklearn.preprocessing import LabelEncoder\n",
    "from sklearn.model_selection import train_test_split\n",
    "import optuna\n",
    "import joblib\n",
    "import json"
   ]
  },
  {
   "cell_type": "code",
   "execution_count": 2,
   "metadata": {},
   "outputs": [],
   "source": [
    "app_train_fe = pd.read_csv(\"/Users/ibrahimyucel/Downloads/BANKA_PROJE1/app_train_fe.csv\")\n",
    "app_test_fe = pd.read_csv(\"/Users/ibrahimyucel/Downloads/BANKA_PROJE1/app_test_fe.csv\")"
   ]
  },
  {
   "cell_type": "code",
   "execution_count": 4,
   "metadata": {},
   "outputs": [
    {
     "name": "stdout",
     "output_type": "stream",
     "text": [
      "✅ Train'de var, Test'te yok: {'TARGET', 'CNT_FAM_MEMBERS_MISSING_FLAG', 'AMT_GOODS_PRICE_MISSING_FLAG', 'DAYS_LAST_PHONE_CHANGE_MISSING_FLAG'}\n",
      "✅ Test'te var, Train'de yok: set()\n",
      "\n",
      "📌 Train'de object kolonlar: ['NAME_CONTRACT_TYPE', 'CODE_GENDER', 'FLAG_OWN_CAR', 'FLAG_OWN_REALTY', 'NAME_TYPE_SUITE', 'NAME_INCOME_TYPE', 'NAME_EDUCATION_TYPE', 'NAME_FAMILY_STATUS', 'NAME_HOUSING_TYPE', 'OCCUPATION_TYPE', 'WEEKDAY_APPR_PROCESS_START', 'ORGANIZATION_TYPE', 'FONDKAPREMONT_MODE', 'HOUSETYPE_MODE', 'WALLSMATERIAL_MODE', 'EMERGENCYSTATE_MODE']\n",
      "\n",
      "📌 Test'te object kolonlar: ['NAME_CONTRACT_TYPE', 'CODE_GENDER', 'FLAG_OWN_CAR', 'FLAG_OWN_REALTY', 'NAME_TYPE_SUITE', 'NAME_INCOME_TYPE', 'NAME_EDUCATION_TYPE', 'NAME_FAMILY_STATUS', 'NAME_HOUSING_TYPE', 'OCCUPATION_TYPE', 'WEEKDAY_APPR_PROCESS_START', 'ORGANIZATION_TYPE', 'FONDKAPREMONT_MODE', 'HOUSETYPE_MODE', 'WALLSMATERIAL_MODE', 'EMERGENCYSTATE_MODE']\n"
     ]
    }
   ],
   "source": [
    "train_cols = set(app_train_fe.columns)\n",
    "test_cols = set(app_test_fe.columns)\n",
    "\n",
    "only_in_train = train_cols - test_cols\n",
    "only_in_test = test_cols - train_cols\n",
    "\n",
    "print(\"✅ Train'de var, Test'te yok:\", only_in_train)\n",
    "print(\"✅ Test'te var, Train'de yok:\", only_in_test)\n",
    "\n",
    "# 2. Hangi kolonlar object dtype?\n",
    "print(\"\\n📌 Train'de object kolonlar:\", app_train_fe.select_dtypes(include=\"object\").columns.tolist())\n",
    "print(\"\\n📌 Test'te object kolonlar:\", app_test_fe.select_dtypes(include=\"object\").columns.tolist())"
   ]
  },
  {
   "cell_type": "code",
   "execution_count": 5,
   "metadata": {},
   "outputs": [],
   "source": [
    "for col in app_train_fe.select_dtypes(include=\"object\").columns:\n",
    "    le = LabelEncoder()\n",
    "    combined = pd.concat([app_train_fe[col], app_test_fe[col]], axis=0).astype(str)\n",
    "    le.fit(combined)\n",
    "    app_train_fe[col] = le.transform(app_train_fe[col].astype(str))\n",
    "    app_test_fe[col] = le.transform(app_test_fe[col].astype(str))\n",
    "\n",
    "X = app_train_fe.drop(columns=[\"TARGET\", \"SK_ID_CURR\"])\n",
    "y = app_train_fe[\"TARGET\"]\n",
    "X_test = app_test_fe.drop(columns=[\"SK_ID_CURR\"])\n",
    "\n",
    "X, X_test = X.align(X_test, join=\"left\", axis=1, fill_value=0)"
   ]
  },
  {
   "cell_type": "code",
   "execution_count": 6,
   "metadata": {},
   "outputs": [
    {
     "name": "stdout",
     "output_type": "stream",
     "text": [
      "Training until validation scores don't improve for 200 rounds\n",
      "[200]\ttrain's auc: 0.816867\tvalid's auc: 0.77592\n",
      "[400]\ttrain's auc: 0.856812\tvalid's auc: 0.781922\n",
      "[600]\ttrain's auc: 0.885959\tvalid's auc: 0.783841\n",
      "[800]\ttrain's auc: 0.908581\tvalid's auc: 0.784983\n",
      "[1000]\ttrain's auc: 0.925811\tvalid's auc: 0.78559\n",
      "[1200]\ttrain's auc: 0.94004\tvalid's auc: 0.785683\n",
      "[1400]\ttrain's auc: 0.951591\tvalid's auc: 0.786199\n",
      "[1600]\ttrain's auc: 0.960309\tvalid's auc: 0.786277\n",
      "[1800]\ttrain's auc: 0.967368\tvalid's auc: 0.78634\n",
      "[2000]\ttrain's auc: 0.973483\tvalid's auc: 0.786312\n",
      "Early stopping, best iteration is:\n",
      "[1865]\ttrain's auc: 0.969553\tvalid's auc: 0.78653\n"
     ]
    }
   ],
   "source": [
    "X = app_train_fe.drop(columns=[\"TARGET\", \"SK_ID_CURR\"])\n",
    "y = app_train_fe[\"TARGET\"]\n",
    "\n",
    "X_train, X_val, y_train, y_val = train_test_split(\n",
    "    X, y, test_size=0.2, stratify=y, random_state=42\n",
    ")\n",
    "\n",
    "lgb_train = lgb.Dataset(X_train, y_train)\n",
    "lgb_val = lgb.Dataset(X_val, y_val, reference=lgb_train)\n",
    "\n",
    "params = {\n",
    "    \"objective\": \"binary\",\n",
    "    \"metric\": \"auc\",\n",
    "    \"boosting_type\": \"gbdt\",\n",
    "    \"learning_rate\": 0.02,\n",
    "    \"num_leaves\": 64,\n",
    "    \"max_depth\": -1,\n",
    "    \"feature_fraction\": 0.8,\n",
    "    \"bagging_fraction\": 0.8,\n",
    "    \"bagging_freq\": 5,\n",
    "    \"lambda_l1\": 0.1,\n",
    "    \"lambda_l2\": 0.1,\n",
    "    \"verbosity\": -1,\n",
    "    \"seed\": 42,\n",
    "}\n",
    "\n",
    "model = lgb.train(\n",
    "    params,\n",
    "    lgb_train,\n",
    "    valid_sets=[lgb_train, lgb_val],\n",
    "    valid_names=[\"train\", \"valid\"],\n",
    "    num_boost_round=10000,\n",
    "    callbacks=[\n",
    "        lgb.early_stopping(stopping_rounds=200),\n",
    "        lgb.log_evaluation(period=200)\n",
    "    ]\n",
    ")"
   ]
  },
  {
   "cell_type": "code",
   "execution_count": 7,
   "metadata": {},
   "outputs": [
    {
     "name": "stdout",
     "output_type": "stream",
     "text": [
      "Validation AUC: 0.7867342257880225\n"
     ]
    }
   ],
   "source": [
    "y_val_pred = model.predict(X_val, num_iteration=model.best_iteration)\n",
    "auc = roc_auc_score(y_val, y_val_pred)\n",
    "print(\"Validation AUC:\", auc)"
   ]
  },
  {
   "cell_type": "code",
   "execution_count": 8,
   "metadata": {},
   "outputs": [
    {
     "name": "stdout",
     "output_type": "stream",
     "text": [
      "🔹 Fold 1\n",
      "Training until validation scores don't improve for 200 rounds\n",
      "[200]\ttrain's auc: 0.821739\tvalid's auc: 0.773084\n",
      "[400]\ttrain's auc: 0.853664\tvalid's auc: 0.778726\n",
      "[600]\ttrain's auc: 0.877658\tvalid's auc: 0.779759\n",
      "[800]\ttrain's auc: 0.897162\tvalid's auc: 0.780012\n",
      "Early stopping, best iteration is:\n",
      "[720]\ttrain's auc: 0.889783\tvalid's auc: 0.780244\n",
      "Fold 1 AUC: 0.78024\n",
      "🔹 Fold 2\n",
      "Training until validation scores don't improve for 200 rounds\n",
      "[200]\ttrain's auc: 0.819964\tvalid's auc: 0.781796\n",
      "[400]\ttrain's auc: 0.852475\tvalid's auc: 0.787947\n",
      "[600]\ttrain's auc: 0.876977\tvalid's auc: 0.789099\n",
      "[800]\ttrain's auc: 0.896722\tvalid's auc: 0.788936\n",
      "Early stopping, best iteration is:\n",
      "[733]\ttrain's auc: 0.890491\tvalid's auc: 0.789152\n",
      "Fold 2 AUC: 0.78915\n",
      "🔹 Fold 3\n",
      "Training until validation scores don't improve for 200 rounds\n",
      "[200]\ttrain's auc: 0.82172\tvalid's auc: 0.773165\n",
      "[400]\ttrain's auc: 0.853549\tvalid's auc: 0.779749\n",
      "[600]\ttrain's auc: 0.877648\tvalid's auc: 0.781037\n",
      "[800]\ttrain's auc: 0.897135\tvalid's auc: 0.780791\n",
      "Early stopping, best iteration is:\n",
      "[698]\ttrain's auc: 0.887812\tvalid's auc: 0.781219\n",
      "Fold 3 AUC: 0.78122\n",
      "🔹 Fold 4\n",
      "Training until validation scores don't improve for 200 rounds\n",
      "[200]\ttrain's auc: 0.820314\tvalid's auc: 0.777917\n",
      "[400]\ttrain's auc: 0.852443\tvalid's auc: 0.784189\n",
      "[600]\ttrain's auc: 0.876854\tvalid's auc: 0.785782\n",
      "[800]\ttrain's auc: 0.896918\tvalid's auc: 0.785983\n",
      "Early stopping, best iteration is:\n",
      "[720]\ttrain's auc: 0.889288\tvalid's auc: 0.786178\n",
      "Fold 4 AUC: 0.78618\n",
      "🔹 Fold 5\n",
      "Training until validation scores don't improve for 200 rounds\n",
      "[200]\ttrain's auc: 0.822026\tvalid's auc: 0.771807\n",
      "[400]\ttrain's auc: 0.854104\tvalid's auc: 0.778567\n",
      "[600]\ttrain's auc: 0.878145\tvalid's auc: 0.779679\n",
      "[800]\ttrain's auc: 0.897892\tvalid's auc: 0.779951\n",
      "Early stopping, best iteration is:\n",
      "[730]\ttrain's auc: 0.891647\tvalid's auc: 0.780113\n",
      "Fold 5 AUC: 0.78011\n",
      "\n",
      "📊 Mean AUC across 5 folds: 0.78338\n"
     ]
    }
   ],
   "source": [
    "n_splits = 5\n",
    "skf = StratifiedKFold(n_splits=n_splits, shuffle=True, random_state=42)\n",
    "\n",
    "oof_preds = np.zeros(len(X))  \n",
    "models = []                   \n",
    "auc_scores = []                \n",
    "\n",
    "pos_weight = (y == 0).sum() / (y == 1).sum()\n",
    "\n",
    "for fold, (train_idx, val_idx) in enumerate(skf.split(X, y), 1):\n",
    "    print(f\"🔹 Fold {fold}\")\n",
    "    \n",
    "    X_train, X_val = X.iloc[train_idx], X.iloc[val_idx]\n",
    "    y_train, y_val = y.iloc[train_idx], y.iloc[val_idx]\n",
    "\n",
    "    lgb_train = lgb.Dataset(X_train, y_train)\n",
    "    lgb_val = lgb.Dataset(X_val, y_val, reference=lgb_train)\n",
    "\n",
    "    params = {\n",
    "        \"objective\": \"binary\",\n",
    "        \"metric\": \"auc\",\n",
    "        \"boosting_type\": \"gbdt\",\n",
    "        \"learning_rate\": 0.02,\n",
    "        \"num_leaves\": 64,\n",
    "        \"max_depth\": -1,\n",
    "        \"feature_fraction\": 0.8,\n",
    "        \"bagging_fraction\": 0.8,\n",
    "        \"bagging_freq\": 5,\n",
    "        \"lambda_l1\": 0.1,\n",
    "        \"lambda_l2\": 0.1,\n",
    "        \"verbosity\": -1,\n",
    "        \"seed\": 42,\n",
    "        \"scale_pos_weight\": pos_weight\n",
    "    }\n",
    "\n",
    "    model = lgb.train(\n",
    "        params,\n",
    "        lgb_train,\n",
    "        valid_sets=[lgb_train, lgb_val],\n",
    "        valid_names=[\"train\", \"valid\"],\n",
    "        num_boost_round=5000,\n",
    "        callbacks=[\n",
    "            lgb.early_stopping(stopping_rounds=200),\n",
    "            lgb.log_evaluation(period=200)\n",
    "        ]\n",
    "    )\n",
    "\n",
    "    models.append(model)\n",
    "\n",
    "    val_pred = model.predict(X_val, num_iteration=model.best_iteration)\n",
    "    oof_preds[val_idx] = val_pred\n",
    "\n",
    "    auc = roc_auc_score(y_val, val_pred)\n",
    "    auc_scores.append(auc)\n",
    "    print(f\"Fold {fold} AUC: {auc:.5f}\")\n",
    "\n",
    "mean_auc = np.mean(auc_scores)\n",
    "print(f\"\\n📊 Mean AUC across {n_splits} folds: {mean_auc:.5f}\")"
   ]
  },
  {
   "cell_type": "code",
   "execution_count": null,
   "metadata": {},
   "outputs": [],
   "source": [
    "pos_weight = (y == 0).sum() / (y == 1).sum()\n",
    "\n",
    "def objective(trial):\n",
    "    skf = StratifiedKFold(n_splits=5, shuffle=True, random_state=42)\n",
    "    aucs = []\n",
    "\n",
    "    param = {\n",
    "        \"objective\": \"binary\",\n",
    "        \"metric\": \"auc\",\n",
    "        \"boosting_type\": \"gbdt\",\n",
    "        \"verbosity\": -1,\n",
    "        \"seed\": 42,\n",
    "        \"scale_pos_weight\": pos_weight, \n",
    "\n",
    "        \"learning_rate\": trial.suggest_float(\"learning_rate\", 0.005, 0.05, log=True),\n",
    "        \"num_leaves\": trial.suggest_int(\"num_leaves\", 31, 256),\n",
    "        \"max_depth\": trial.suggest_int(\"max_depth\", -1, 15),\n",
    "        \"min_data_in_leaf\": trial.suggest_int(\"min_data_in_leaf\", 20, 200),\n",
    "        \"feature_fraction\": trial.suggest_float(\"feature_fraction\", 0.6, 1.0),\n",
    "        \"bagging_fraction\": trial.suggest_float(\"bagging_fraction\", 0.6, 1.0),\n",
    "        \"bagging_freq\": trial.suggest_int(\"bagging_freq\", 1, 10),\n",
    "        \"lambda_l1\": trial.suggest_float(\"lambda_l1\", 0.0, 5.0),\n",
    "        \"lambda_l2\": trial.suggest_float(\"lambda_l2\", 0.0, 5.0),\n",
    "    }\n",
    "\n",
    "    for train_idx, val_idx in skf.split(X, y):\n",
    "        X_train, X_val = X.iloc[train_idx], X.iloc[val_idx]\n",
    "        y_train, y_val = y.iloc[train_idx], y.iloc[val_idx]\n",
    "\n",
    "        dtrain = lgb.Dataset(X_train, y_train)\n",
    "        dval = lgb.Dataset(X_val, y_val, reference=dtrain)\n",
    "\n",
    "        model = lgb.train(\n",
    "            param,\n",
    "            dtrain,\n",
    "            valid_sets=[dtrain, dval],\n",
    "            num_boost_round=5000,\n",
    "            callbacks=[\n",
    "                lgb.early_stopping(stopping_rounds=200),\n",
    "                lgb.log_evaluation(period=0)  \n",
    "            ]\n",
    "        )\n",
    "\n",
    "        preds = model.predict(X_val, num_iteration=model.best_iteration)\n",
    "        auc = roc_auc_score(y_val, preds)\n",
    "        aucs.append(auc)\n",
    "\n",
    "    return np.mean(aucs)\n",
    "\n",
    "study = optuna.create_study(direction=\"maximize\")\n",
    "study.optimize(objective, n_trials=50)  #\n",
    "\n",
    "print(\"Best AUC:\", study.best_value)\n",
    "print(\"Best Params:\", study.best_params)"
   ]
  },
  {
   "cell_type": "markdown",
   "metadata": {},
   "source": [
    "**Best AUC**: 0.7854609073839869\n",
    "\n",
    "\n",
    "**Best Params**: {\n",
    "    'learning_rate': 0.02217795985685793,\n",
    "    'num_leaves': 95,\n",
    "    'max_depth': 5,\n",
    "    'min_data_in_leaf': 164,\n",
    "    'feature_fraction': 0.8417080483379039,\n",
    "    'bagging_fraction': 0.8628300008332541,\n",
    "    'bagging_freq': 4,\n",
    "    'lambda_l1': 1.4000393595354244,\n",
    "    'lambda_l2': 2.9103175344055554\n",
    "}"
   ]
  },
  {
   "cell_type": "code",
   "execution_count": 8,
   "metadata": {},
   "outputs": [],
   "source": [
    "X = app_train_fe.drop(columns=[\"TARGET\", \"SK_ID_CURR\"])\n",
    "y = app_train_fe[\"TARGET\"]\n",
    "X_test = app_test_fe.drop(columns=[\"SK_ID_CURR\"])\n",
    "\n",
    "X, X_test = X.align(X_test, join=\"left\", axis=1, fill_value=0)\n",
    "\n",
    "X_train, X_val, y_train, y_val = train_test_split(\n",
    "    X, y, test_size=0.2, stratify=y, random_state=42\n",
    ")"
   ]
  },
  {
   "cell_type": "code",
   "execution_count": 10,
   "metadata": {},
   "outputs": [
    {
     "name": "stdout",
     "output_type": "stream",
     "text": [
      "X_train shape: (246008, 333)\n",
      "X_val shape: (61503, 333)\n",
      "X_test shape: (48744, 330)\n",
      "Train'de var, Test'te yok: {'CNT_FAM_MEMBERS_MISSING_FLAG', 'AMT_GOODS_PRICE_MISSING_FLAG', 'DAYS_LAST_PHONE_CHANGE_MISSING_FLAG'}\n",
      "Test'te var, Train'de yok: set()\n",
      "Object kolonlar train: []\n",
      "Object kolonlar test: []\n"
     ]
    }
   ],
   "source": [
    "print(\"X_train shape:\", X_train.shape)\n",
    "print(\"X_val shape:\", X_val.shape)\n",
    "print(\"X_test shape:\", X_test.shape)\n",
    "\n",
    "# Kolon farklarını kontrol et\n",
    "train_cols = set(X.columns)\n",
    "test_cols = set(X_test.columns)\n",
    "\n",
    "print(\"Train'de var, Test'te yok:\", train_cols - test_cols)\n",
    "print(\"Test'te var, Train'de yok:\", test_cols - train_cols)\n",
    "\n",
    "# Hâlâ object kolon kalmış mı?\n",
    "print(\"Object kolonlar train:\", X.select_dtypes(include='object').columns.tolist())\n",
    "print(\"Object kolonlar test:\", X_test.select_dtypes(include='object').columns.tolist())"
   ]
  },
  {
   "cell_type": "code",
   "execution_count": 17,
   "metadata": {},
   "outputs": [
    {
     "name": "stdout",
     "output_type": "stream",
     "text": [
      "Train shape: (307511, 333)\n",
      "Test shape: (48744, 333)\n",
      "Aynı kolon listesi mi?  True\n"
     ]
    }
   ],
   "source": [
    "missing_cols = [\"CNT_FAM_MEMBERS_MISSING_FLAG\", \n",
    "                \"AMT_GOODS_PRICE_MISSING_FLAG\", \n",
    "                \"DAYS_LAST_PHONE_CHANGE_MISSING_FLAG\"]\n",
    "\n",
    "for col in missing_cols:\n",
    "    if col not in X_test.columns:\n",
    "        X_test[col] = 0\n",
    "\n",
    "X_test = X_test.reindex(columns=X.columns, fill_value=0)\n",
    "\n",
    "print(\"Train shape:\", X.shape)\n",
    "print(\"Test shape:\", X_test.shape)\n",
    "print(\"Aynı kolon listesi mi? \", list(X.columns) == list(X_test.columns))"
   ]
  },
  {
   "cell_type": "code",
   "execution_count": 18,
   "metadata": {},
   "outputs": [
    {
     "name": "stdout",
     "output_type": "stream",
     "text": [
      "Training until validation scores don't improve for 200 rounds\n",
      "[200]\ttraining's auc: 0.791743\tvalid_1's auc: 0.774188\n",
      "[400]\ttraining's auc: 0.810429\tvalid_1's auc: 0.781674\n",
      "[600]\ttraining's auc: 0.822198\tvalid_1's auc: 0.784396\n",
      "[800]\ttraining's auc: 0.831946\tvalid_1's auc: 0.786109\n",
      "[1000]\ttraining's auc: 0.841304\tvalid_1's auc: 0.787235\n",
      "[1200]\ttraining's auc: 0.849291\tvalid_1's auc: 0.787794\n",
      "[1400]\ttraining's auc: 0.856498\tvalid_1's auc: 0.788171\n",
      "[1600]\ttraining's auc: 0.864148\tvalid_1's auc: 0.788632\n",
      "[1800]\ttraining's auc: 0.870422\tvalid_1's auc: 0.788927\n",
      "[2000]\ttraining's auc: 0.876589\tvalid_1's auc: 0.788867\n",
      "Early stopping, best iteration is:\n",
      "[1850]\ttraining's auc: 0.871972\tvalid_1's auc: 0.789033\n",
      "✅ Validation AUC: 0.7890328019365955\n",
      "📁 submission.csv dosyası hazır!\n"
     ]
    }
   ],
   "source": [
    "# ==============================\n",
    "# 1. Train & Test veri hazırla\n",
    "# ==============================\n",
    "X = app_train_fe.drop(columns=[\"TARGET\", \"SK_ID_CURR\"])\n",
    "y = app_train_fe[\"TARGET\"]\n",
    "X_test = app_test_fe.drop(columns=[\"SK_ID_CURR\"])\n",
    "\n",
    "# Train ve Test kolonlarını hizala\n",
    "X, X_test = X.align(X_test, join=\"left\", axis=1, fill_value=0)\n",
    "\n",
    "# ==============================\n",
    "# 2. Train / Validation split\n",
    "# ==============================\n",
    "X_train, X_val, y_train, y_val = train_test_split(\n",
    "    X, y, test_size=0.2, stratify=y, random_state=42\n",
    ")\n",
    "\n",
    "lgb_train = lgb.Dataset(X_train, y_train)\n",
    "lgb_val = lgb.Dataset(X_val, y_val, reference=lgb_train)\n",
    "\n",
    "# ==============================\n",
    "# 3. En iyi parametreler\n",
    "# ==============================\n",
    "best_params = {\n",
    "    \"objective\": \"binary\",\n",
    "    \"metric\": \"auc\",\n",
    "    \"boosting_type\": \"gbdt\",\n",
    "    \"verbosity\": -1,\n",
    "    \"seed\": 42,\n",
    "    \"scale_pos_weight\": (y == 0).sum() / (y == 1).sum(),\n",
    "    \"learning_rate\": 0.02217795985685793,\n",
    "    \"num_leaves\": 95,\n",
    "    \"max_depth\": 5,\n",
    "    \"min_data_in_leaf\": 164,\n",
    "    \"feature_fraction\": 0.8417080483379039,\n",
    "    \"bagging_fraction\": 0.8628300008332541,\n",
    "    \"bagging_freq\": 4,\n",
    "    \"lambda_l1\": 1.4000393595354244,\n",
    "    \"lambda_l2\": 2.9103175344055554\n",
    "}\n",
    "\n",
    "# ==============================\n",
    "# 4. Model eğit\n",
    "# ==============================\n",
    "final_model = lgb.train(\n",
    "    best_params,\n",
    "    lgb_train,\n",
    "    valid_sets=[lgb_train, lgb_val],\n",
    "    num_boost_round=5000,\n",
    "    callbacks=[\n",
    "        lgb.early_stopping(stopping_rounds=200),\n",
    "        lgb.log_evaluation(period=200)\n",
    "    ]\n",
    ")\n",
    "\n",
    "# ==============================\n",
    "# 5. Validation performansı\n",
    "# ==============================\n",
    "y_val_pred = final_model.predict(X_val, num_iteration=final_model.best_iteration)\n",
    "val_auc = roc_auc_score(y_val, y_val_pred)\n",
    "print(\"✅ Validation AUC:\", val_auc)\n",
    "\n",
    "# ==============================\n",
    "# 6. Test seti prediction\n",
    "# ==============================\n",
    "y_test_pred = final_model.predict(X_test, num_iteration=final_model.best_iteration)\n",
    "\n",
    "submission = pd.DataFrame({\n",
    "    \"SK_ID_CURR\": app_test_fe[\"SK_ID_CURR\"],\n",
    "    \"TARGET\": y_test_pred\n",
    "})\n",
    "\n",
    "submission.to_csv(\"submission.csv\", index=False)\n",
    "print(\"📁 submission.csv dosyası hazır!\")\n"
   ]
  },
  {
   "cell_type": "code",
   "execution_count": 20,
   "metadata": {},
   "outputs": [
    {
     "data": {
      "text/plain": [
       "['final_model.pkl']"
      ]
     },
     "execution_count": 20,
     "metadata": {},
     "output_type": "execute_result"
    }
   ],
   "source": [
    "final_model.save_model(\"final_model.txt\")   # LightGBM formatında\n",
    "joblib.dump(final_model, \"final_model.pkl\") # scikit-learn uyumlu format"
   ]
  },
  {
   "cell_type": "code",
   "execution_count": null,
   "metadata": {},
   "outputs": [],
   "source": [
    "with open(\"best_params.json\", \"w\") as f:\n",
    "    json.dump(best_params, f)"
   ]
  },
  {
   "cell_type": "code",
   "execution_count": 22,
   "metadata": {},
   "outputs": [
    {
     "name": "stderr",
     "output_type": "stream",
     "text": [
      "/var/folders/1t/15hmc_h12xnbygjnmf7kj43h0000gn/T/ipykernel_7443/2273762631.py:17: FutureWarning: \n",
      "\n",
      "Passing `palette` without assigning `hue` is deprecated and will be removed in v0.14.0. Assign the `y` variable to `hue` and set `legend=False` for the same effect.\n",
      "\n",
      "  sns.barplot(data=fi_df.head(30), x=\"gain\", y=\"feature\", palette=\"viridis\")\n"
     ]
    },
    {
     "data": {
      "image/png": "[encoded data removed]",
      "text/plain": [
       "<Figure size 1000x800 with 1 Axes>"
      ]
     },
     "metadata": {},
     "output_type": "display_data"
    }
   ],
   "source": [
    "importance_split = final_model.feature_importance(importance_type=\"split\")\n",
    "importance_gain = final_model.feature_importance(importance_type=\"gain\")\n",
    "feature_names = final_model.feature_name()\n",
    "\n",
    "fi_df = pd.DataFrame({\n",
    "    \"feature\": feature_names,\n",
    "    \"split\": importance_split,\n",
    "    \"gain\": importance_gain\n",
    "})\n",
    "\n",
    "fi_df = fi_df.sort_values(\"gain\", ascending=False)\n",
    "\n",
    "plt.figure(figsize=(10, 8))\n",
    "sns.barplot(data=fi_df.head(30), x=\"gain\", y=\"feature\", palette=\"viridis\")\n",
    "plt.title(\"Top 30 Features (by Gain Importance)\")\n",
    "plt.xlabel(\"Gain\")\n",
    "plt.ylabel(\"Feature\")\n",
    "plt.tight_layout()\n",
    "plt.show()"
   ]
  },
  {
   "cell_type": "code",
   "execution_count": null,
   "metadata": {},
   "outputs": [],
   "source": []
  }
 ],
 "metadata": {
  "kernelspec": {
   "display_name": "Python 3",
   "language": "python",
   "name": "python3"
  },
  "language_info": {
   "codemirror_mode": {
    "name": "ipython",
    "version": 3
   },
   "file_extension": ".py",
   "mimetype": "text/x-python",
   "name": "python",
   "nbconvert_exporter": "python",
   "pygments_lexer": "ipython3",
   "version": "3.13.5"
  }
 },
 "nbformat": 4,
 "nbformat_minor": 2
}
